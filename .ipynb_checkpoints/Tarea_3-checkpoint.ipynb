{
 "cells": [
  {
   "cell_type": "markdown",
   "id": "4f1aec8a",
   "metadata": {},
   "source": [
    "## Primera parte "
   ]
  },
  {
   "cell_type": "markdown",
   "id": "f3a16a82",
   "metadata": {},
   "source": [
    "### Josafat Choque Martínez \n",
    "### ICEL"
   ]
  },
  {
   "cell_type": "code",
   "execution_count": 10,
   "id": "7fa8214e",
   "metadata": {},
   "outputs": [],
   "source": [
    "from numpy import*\n"
   ]
  },
  {
   "cell_type": "code",
   "execution_count": 18,
   "id": "3f1fb309",
   "metadata": {},
   "outputs": [
    {
     "name": "stdout",
     "output_type": "stream",
     "text": [
      "Distancia: 3.1622776601683795\n"
     ]
    }
   ],
   "source": [
    "def calcular_distancia(loc_1,loc_2):\n",
    "    distance=sqrt((loc_2[0]-loc_1[0])**2+(loc_2[1]-loc_1[1])**2)\n",
    "    return distance\n",
    "punto1=(0,0)\n",
    "punto2=(1,3)\n",
    "distancia=calcular_distancia(punto1,punto2)\n",
    "print(\"Distancia:\", distancia)\n"
   ]
  },
  {
   "cell_type": "code",
   "execution_count": 19,
   "id": "eb3a8d12",
   "metadata": {
    "scrolled": true
   },
   "outputs": [
    {
     "name": "stdout",
     "output_type": "stream",
     "text": [
      "Distancia total ruta 1: 8.81913190966076\n",
      "Distancia total ruta 2: 12.782484645209152\n",
      "Distancia total ruta 3: 13.559608795926952\n"
     ]
    }
   ],
   "source": [
    "def calcular_distancia_total(ruta):\n",
    "    distan_tot=0\n",
    "    \n",
    "    for i in range(len(ruta)-1): #Se recorre la lista\n",
    "        distan_varia=sqrt((ruta[i+1][0]-ruta[i][0])**2+(ruta[i+1][1]-ruta[i][1])**2)\n",
    "        distan_tot+=distan_varia #Se acumula la distnacia entre puntos\n",
    "        \n",
    "    return distan_tot\n",
    "## Primera Ruta\n",
    "ruta1=[(0,0), (1,3), (3,5), (5,3)]\n",
    "distancia_total_1=calcular_distancia_total(ruta1)\n",
    "\n",
    "print(\"Distancia total ruta 1:\", distancia_total_1)\n",
    "\n",
    "## Segunda Ruta\n",
    "ruta2=[(0,0), (3,5), (1,3), (5,2)]\n",
    "distancia_total_2=calcular_distancia_total(ruta2)\n",
    "\n",
    "print(\"Distancia total ruta 2:\", distancia_total_2)\n",
    "\n",
    "## Tercera Ruta\n",
    "ruta3=[(0,0), (3,5), (5,2), (1,3)]\n",
    "distancia_total_3=calcular_distancia_total(ruta3)\n",
    "\n",
    "print(\"Distancia total ruta 3:\", distancia_total_3)\n"
   ]
  },
  {
   "cell_type": "code",
   "execution_count": 20,
   "id": "ce11891d",
   "metadata": {},
   "outputs": [
    {
     "name": "stdout",
     "output_type": "stream",
     "text": [
      "Ruta optimizada: \n",
      "  [[0 0]\n",
      " [1 3]\n",
      " [3 5]\n",
      " [5 2]]\n"
     ]
    }
   ],
   "source": [
    "#Usando como entrada un matríz\n",
    "def optimizacion_ruta(rutas):\n",
    "    distan_tot=0\n",
    "    ruta_optima=inf\n",
    "    for i in range(shape(rutas)[0]):#Para recorrer las filas de la matriz\n",
    "        for j in range(shape(rutas)[1]-1):#Para recorrer cada columna de la fila \n",
    "            distan_varia=sqrt((rutas[i,(j+1)][0]-rutas[i,j][0])**2+(rutas[i,(j+1)][1]-rutas[i,j][1])**2)\n",
    "            distan_tot+=distan_varia\n",
    "        if distan_tot<ruta_optima:  #Se comparan las distancias respecto a la optima.\n",
    "            ruta_optima=distan_tot\n",
    "            coef_optimo=i\n",
    "        distan_tot=0\n",
    "        \n",
    "    return rutas[coef_optimo,:]\n",
    "## Con una matriz\n",
    "rutas=array([[(0,0),(1,3),(3,5),(5,2)],[(0,0),(3,5),(1,3),(5,2)],[(0,0),(3,5),(5,2),(1,3)]])\n",
    "ruta_optimizada=optimizacion_ruta(rutas)\n",
    "print(\"Ruta optimizada: \\n \", ruta_optimizada)"
   ]
  },
  {
   "cell_type": "code",
   "execution_count": 17,
   "id": "d8c241d2",
   "metadata": {},
   "outputs": [
    {
     "name": "stdout",
     "output_type": "stream",
     "text": [
      "Ruta optimizada:  [(0, 0), (1, 3), (3, 5), (5, 2)]\n"
     ]
    }
   ],
   "source": [
    "# Usando una lista de listas\n",
    "def optimizacion_ruta(rutas):\n",
    "    distan_tot=0\n",
    "    ruta_optima=inf\n",
    "    for i in range(len(rutas)): #Para recorrer los elementos de la lista\n",
    "        for j in range(len(rutas[i])-1): #Para recorrer los elementos del primer elemento de la lista\n",
    "            distan_varia=sqrt((rutas[i][(j+1)][0]-rutas[i][j][0])**2+(rutas[i][(j+1)][1]-rutas[i][j][1])**2)\n",
    "            distan_tot+=distan_varia\n",
    "        if distan_tot<ruta_optima: #Se comparan las distancias respecto a la optima.\n",
    "            ruta_optima=distan_tot\n",
    "            coef_optimo=i \n",
    "        distan_tot=0\n",
    "        \n",
    "    return rutas[coef_optimo]\n",
    "##Lista de listas\n",
    "rutas=[[(0,0),(1,3),(3,5),(5,2)],[(0,0),(3,5),(1,3),(5,2)],[(0,0),(3,5),(5,2),(1,3)]]\n",
    "ruta_optimizada=optimizacion_ruta(rutas)\n",
    "print(\"Ruta optimizada: \", ruta_optimizada)"
   ]
  },
  {
   "cell_type": "markdown",
   "id": "7e94a43b",
   "metadata": {},
   "source": [
    "## Segunda parte"
   ]
  },
  {
   "cell_type": "code",
   "execution_count": 21,
   "id": "1cd6de96",
   "metadata": {
    "scrolled": true
   },
   "outputs": [
    {
     "name": "stdout",
     "output_type": "stream",
     "text": [
      "Libro 1: Veinte poemas de amor y una canción desesperada de autor Pablo Neruda\n",
      "Disponibilidad: Si\n",
      "Libro 2: Don Quijote de la Mancha de autor Miguel de Cervantes\n",
      "Disponibilidad: Si\n",
      "El libro 'Veinte poemas de amor y una canción desesperada' de autor Pablo Neruda ha sido prestado.\n",
      "Libro 1: Veinte poemas de amor y una canción desesperada de autor Pablo Neruda\n",
      "Disponibilidad: No\n",
      "El libro 'Veinte poemas de amor y una canción desesperada' de autor Pablo Neruda no está disponible.\n",
      "Libro 1: Veinte poemas de amor y una canción desesperada de autor Pablo Neruda\n",
      "Disponibilidad: No\n",
      "El libro 'Veinte poemas de amor y una canción desesperada' de autor Pablo Neruda ha sido devuelto.\n",
      "Libro 1: Veinte poemas de amor y una canción desesperada de autor Pablo Neruda\n",
      "Disponibilidad: Si\n",
      "Error, el libro 'Don Quijote de la Mancha' de autor Miguel de Cervantes ya estaba disponible.\n",
      "Libro 2: Don Quijote de la Mancha de autor Miguel de Cervantes\n",
      "Disponibilidad: Si\n"
     ]
    }
   ],
   "source": [
    "class Libro():\n",
    "    def __init__(self,titulo,autor):\n",
    "        self.titulo=titulo\n",
    "        self.autor=autor\n",
    "        self.disponibilidad=\"Si\"\n",
    "    def obtener_titulo(self):\n",
    "        return self.titulo\n",
    "    def obtener_autor(self):\n",
    "        return self.autor\n",
    "    def esta_disponible(self):\n",
    "        return self.disponibilidad\n",
    "    def libro_prestado(self):\n",
    "        if self.disponibilidad == \"Si\": \n",
    "            text=\"El libro '\"+self.titulo+\"' de autor \"+self.autor+\" ha sido prestado.\"\n",
    "            self.disponibilidad=\"No\"\n",
    "        else :\n",
    "            text=\"El libro '\"+self.titulo+\"' de autor \"+self.autor+\" no está disponible.\"\n",
    "        print(text)\n",
    "    def devolver_libro(self):\n",
    "        if self.disponibilidad == \"No\": \n",
    "            text2=\"El libro '\"+self.titulo+\"' de autor \"+self.autor+\" ha sido devuelto.\"\n",
    "            self.disponibilidad=\"Si\"\n",
    "        else :\n",
    "            text2=\"Error, el libro '\"+self.titulo+\"' de autor \"+self.autor+\" ya estaba disponible.\"\n",
    "        print(text2)\n",
    "#Creación de objetos desde la clase Libro\n",
    "libro1= Libro(\"Veinte poemas de amor y una canción desesperada\", \"Pablo Neruda\")           \n",
    "libro2= Libro(\"Don Quijote de la Mancha\", \"Miguel de Cervantes\")           \n",
    "\n",
    "#Información de los objetos libro1 y libro2\n",
    "print(\"Libro 1: {} de autor {}\".format(libro1.obtener_titulo(),libro1.obtener_autor()))\n",
    "print(\"Disponibilidad: {}\".format(libro1.esta_disponible()))\n",
    "\n",
    "print(\"Libro 2: {} de autor {}\".format(libro2.obtener_titulo(),libro2.obtener_autor()))\n",
    "print(\"Disponibilidad: {}\".format(libro2.esta_disponible()))\n",
    "\n",
    "#Pedir libro prestado\n",
    "libro1.libro_prestado()\n",
    "\n",
    "#Obtener información actualizada del libro1 \n",
    "print(\"Libro 1: {} de autor {}\".format(libro1.obtener_titulo(),libro1.obtener_autor()))\n",
    "print(\"Disponibilidad: {}\".format(libro1.esta_disponible()))\n",
    "\n",
    "#Volver a solicitar el mismo libro prestado\n",
    "libro1.libro_prestado()\n",
    "\n",
    "#Obtener información actualizada del libro1 \n",
    "print(\"Libro 1: {} de autor {}\".format(libro1.obtener_titulo(),libro1.obtener_autor()))\n",
    "print(\"Disponibilidad: {}\".format(libro1.esta_disponible()))\n",
    "\n",
    "#Devolver el libro\n",
    "libro1.devolver_libro()\n",
    "\n",
    "#Obtener información actualizada del libro1 \n",
    "print(\"Libro 1: {} de autor {}\".format(libro1.obtener_titulo(),libro1.obtener_autor()))\n",
    "print(\"Disponibilidad: {}\".format(libro1.esta_disponible()))\n",
    "\n",
    "#Devolver un libro\n",
    "libro2.devolver_libro()\n",
    "\n",
    "#Obtener información actualizada del libro2 \n",
    "print(\"Libro 2: {} de autor {}\".format(libro2.obtener_titulo(),libro2.obtener_autor()))\n",
    "print(\"Disponibilidad: {}\".format(libro2.esta_disponible()))\n"
   ]
  }
 ],
 "metadata": {
  "kernelspec": {
   "display_name": "Python 3 (ipykernel)",
   "language": "python",
   "name": "python3"
  },
  "language_info": {
   "codemirror_mode": {
    "name": "ipython",
    "version": 3
   },
   "file_extension": ".py",
   "mimetype": "text/x-python",
   "name": "python",
   "nbconvert_exporter": "python",
   "pygments_lexer": "ipython3",
   "version": "3.10.9"
  }
 },
 "nbformat": 4,
 "nbformat_minor": 5
}
